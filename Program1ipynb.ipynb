{
  "nbformat": 4,
  "nbformat_minor": 0,
  "metadata": {
    "colab": {
      "provenance": [],
      "authorship_tag": "ABX9TyNfjtZlXhmDvFMnJcdBYw/r",
      "include_colab_link": true
    },
    "kernelspec": {
      "name": "python3",
      "display_name": "Python 3"
    },
    "language_info": {
      "name": "python"
    }
  },
  "cells": [
    {
      "cell_type": "markdown",
      "metadata": {
        "id": "view-in-github",
        "colab_type": "text"
      },
      "source": [
        "<a href=\"https://colab.research.google.com/github/Rohan171819/Data-Science/blob/main/Program1ipynb.ipynb\" target=\"_parent\"><img src=\"https://colab.research.google.com/assets/colab-badge.svg\" alt=\"Open In Colab\"/></a>"
      ]
    },
    {
      "cell_type": "code",
      "source": [
        "import numpy as np\n",
        "import pandas as pd\n",
        "list1=[1,2,3,4,5]\n",
        "l2=[\"A\",\"B\",\"C\",\"D\"]\n",
        "a=pd.Series(list1)\n",
        "b=pd.Series(l2)\n",
        "print(b)"
      ],
      "metadata": {
        "id": "VIwHtTFHrGCp",
        "outputId": "6b992b37-53b7-4774-d7f9-aa051a737c62",
        "colab": {
          "base_uri": "https://localhost:8080/"
        }
      },
      "execution_count": null,
      "outputs": [
        {
          "output_type": "stream",
          "name": "stdout",
          "text": [
            "0    A\n",
            "1    B\n",
            "2    C\n",
            "3    D\n",
            "dtype: object\n"
          ]
        }
      ]
    }
  ]
}