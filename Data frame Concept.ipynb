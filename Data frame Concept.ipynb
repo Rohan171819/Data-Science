{
  "cells": [
    {
      "cell_type": "markdown",
      "metadata": {
        "id": "view-in-github",
        "colab_type": "text"
      },
      "source": [
        "<a href=\"https://colab.research.google.com/github/Rohan171819/Data-Science/blob/main/Data%20frame%20Concept.ipynb\" target=\"_parent\"><img src=\"https://colab.research.google.com/assets/colab-badge.svg\" alt=\"Open In Colab\"/></a>"
      ]
    },
    {
      "cell_type": "code",
      "source": [
        "import pandas as pd\n",
        "Dict1={\"day\":[\"1/1/2017\",\"1/2/2017\",\"1/3/2017\",\"1/4/2017\",\"1/5/2017\",\"1/6/2017\"],\"temperature\":[32,35,28,24,32,32],\"windspeed\":[6,7,2,7,4,2],\"event\":[\"Rain\",\"Sunny\",\"Snow\",\"Snow\",\"Rain\",\"Sunny\"]}\n",
        "df=pd.DataFrame(Dict1)\n",
        "#print(df)\n",
        "# In order to get the shape of the table\n",
        "#print(\"Rows,Columns\",df.shape)\n",
        "# In order to print the upper rows only\n",
        "#print(df.head(2))\n",
        "# In order to print the lower rows only\n",
        "#print(df.tail(2))\n",
        "# In order to print the colums only.\n",
        "#print(df.columns)\n",
        "# In order to print the rows only.\n",
        "#print(df[[\"temperature\",\"event\"]])\n",
        "# Opearations on  Data frames \n",
        "#print(\"Maximum temperature is:\",df[\"temperature\"].max())\n",
        "#print(\"Minimum temperature is:\",df[\"temperature\"].min())\n",
        "#print(\"Standard Deviation is:\",df[\"temperature\"].std())\n",
        "#print(\"The description of the table is:\",df.describe())\n",
        "# Applying Conditions on the table to fetch data\n",
        "#print(df[df[\"temperature\"]>30])\n",
        "#print(df[\"windspeed\"][df[\"temperature\"]==df[\"temperature\"].max()])\n",
        "#print(df[[\"temperature\",\"day\"]][df[\"temperature\"]==df[\"temperature\"].max()])\n",
        "#print(df[[\"day\",\"windspeed\"]][df[\"event\"]==\"Rain\"])\n",
        "# Setting of index\n",
        "#df.set_index(\"day\",inplace=True)\n",
        "#print(df)\n",
        "#print(df.loc[\"1/5/2017\"])\n",
        "df.reset_index(inplace=True)\n",
        "print(df)"
      ],
      "metadata": {
        "colab": {
          "base_uri": "https://localhost:8080/"
        },
        "id": "842KAVbd4bD_",
        "outputId": "d2a1e5a7-f08c-477c-ae44-b54d5a0f2dcc"
      },
      "execution_count": null,
      "outputs": [
        {
          "output_type": "stream",
          "name": "stdout",
          "text": [
            "   index       day  temperature  windspeed  event\n",
            "0      0  1/1/2017           32          6   Rain\n",
            "1      1  1/2/2017           35          7  Sunny\n",
            "2      2  1/3/2017           28          2   Snow\n",
            "3      3  1/4/2017           24          7   Snow\n",
            "4      4  1/5/2017           32          4   Rain\n",
            "5      5  1/6/2017           32          2  Sunny\n"
          ]
        }
      ]
    }
  ],
  "metadata": {
    "colab": {
      "toc_visible": true,
      "provenance": [],
      "include_colab_link": true
    },
    "kernelspec": {
      "display_name": "Python 3",
      "name": "python3"
    }
  },
  "nbformat": 4,
  "nbformat_minor": 0
}