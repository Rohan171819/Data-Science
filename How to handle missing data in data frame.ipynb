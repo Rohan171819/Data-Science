
    {
      "cell_type": "code",
      "source": [
        "                     # Handling Missing Values\n",
        "import pandas as pd\n",
        "Company_data={\"day\":[\"1/1/2017\",\"1/2/2017\",None,\"1/4/2017\",\"1/5/2017\",\"1/6/2017\"],\n",
        "              \"Company_Names\":[\"Tata Ltd\",\"Reliance Ltd\",\"Inforsys Ltd\",\"KPMG Ltd\",None,\"Amazon Ltd\"],\n",
        "              \"Sales1\":[23000,50000,None,67900,79200,45600],\n",
        "              \"Sales2\":[45000,90000,27980,None,58760,43670],\n",
        "              \"Sales3\":[78000,45600,None,None,None,23995]}\n",
        "df=pd.DataFrame(Company_data)\n",
        "#print(df)\n",
        "# Using fillna() method\n",
        "#new_df=df.fillna(0)     # It is uesd if you want to put 0 where there is missing spaces. \n",
        "#print(new_df)\n",
        "#new_df=df.fillna({\"day\":0,\"Company_Names\":0,\"Sales1\":\"No Sales\",\"Sales2\":\"No Sales\",\"Sales3\":\"No Sales\"})\n",
        "#print(new_df)\n",
        "#new_df=df.fillna(method=\"ffill\")   # It is used to fill the forward values.  \n",
        "#print(new_df)\n",
        "#new_df=df.fillna(method=\"bfill\")\n",
        "#print(new_df)\n",
        "#new_df=df.fillna(method=\"ffill\",axis=\"columns\")\n",
        "#print(new_df)\n",
        "#new_df=df.fillna(method=\"bfill\")\n",
        "#print(new_df)\n",
        "#new_df=df.fillna(method=\"ffill\",limit=1)   # It is used to fill the forward values.  \n",
        "#print(new_df)\n",
        "\n",
        "\n"
      ],
      "metadata": {
        "id": "BGD3GlIXbp2f",
        "outputId": "23f828aa-8200-40bc-ae2c-9b3d9fbc9858",
        "colab": {
          "base_uri": "https://localhost:8080/"
        }
      },
      "execution_count": null,
      "outputs": [
        {
          "output_type": "stream",
          "name": "stdout",
          "text": [
            "        day Company_Names   Sales1   Sales2   Sales3\n",
            "0  1/1/2017      Tata Ltd  23000.0  45000.0  78000.0\n",
            "1  1/2/2017  Reliance Ltd  50000.0  90000.0  45600.0\n",
            "2  1/2/2017  Inforsys Ltd  50000.0  27980.0  45600.0\n",
            "3  1/4/2017      KPMG Ltd  67900.0  27980.0      NaN\n",
            "4  1/5/2017      KPMG Ltd  79200.0  58760.0      NaN\n",
            "5  1/6/2017    Amazon Ltd  45600.0  43670.0  23995.0\n"
          ]
        }
      ]
    },
    {
      "cell_type": "code",
      "source": [
        "    # Interpolate method\n",
        "Weather_data={\"day\":[\"1/1/2017\",\"1/4/2017\",\"1/5/2017\",\"1/8/2017\",\"1/9/2017\",\"1/10/2017\"],\n",
        "              \"temperature\":[32,-9999,28,56,-9999,78],\n",
        "              \"windspeed\":[6,7,2,-9999,3,-9999],\n",
        "              \"event\":[\"Rain\",None,\"Snow\",\"Sunny\",None,\"Snow\"]}\n",
        "#Weather_data[\"day\"]=pd.to_datetime(Weather_data[\"day\"]);\n",
        "df=pd.DataFrame(Weather_data)\n",
        "#print(df)\n",
        "#new_df=df.interpolate(method=\"quadratic\")\n",
        "#print(new_df)\n",
        "\n"
      ],
      "metadata": {
        "id": "gAuJ6xJgGfVB",
        "outputId": "ffeaacb1-04de-4675-b82b-3cad228e0ed0",
        "colab": {
          "base_uri": "https://localhost:8080/"
        }
      },
      "execution_count": null,
      "outputs": [
        {
          "output_type": "stream",
          "name": "stdout",
          "text": [
            "         day  temperature  windspeed  event\n",
            "0   1/1/2017    32.000000   6.000000   Rain\n",
            "1   1/4/2017    18.433333   7.000000   None\n",
            "2   1/5/2017    28.000000   2.000000   Snow\n",
            "3   1/8/2017    56.000000   0.157895  Sunny\n",
            "4   1/9/2017    74.233333   3.000000   None\n",
            "5  1/10/2017    78.000000        NaN   Snow\n"
          ]
        }
      ]
    },
    {
      "cell_type": "code",
      "source": [
        "         # Dropna method\n",
        "#print(df)\n",
        "#new_df=df.dropna()\n",
        "#print(new_df)\n",
        "#new_df=df.dropna(how=\"all\")\n",
        "#print(new_df)\n",
        "#new_df=df.dropna(thresh=3)\n",
        "#print(new_df)"
      ],
      "metadata": {
        "id": "4bh3jURRZBKE",
        "outputId": "2d8ff1ef-8f1b-4eb2-9bb9-441ab1ed213c",
        "colab": {
          "base_uri": "https://localhost:8080/"
        }
      },
      "execution_count": null,
      "outputs": [
        {
          "output_type": "stream",
          "name": "stdout",
          "text": [
            "         day  temperature  windspeed  event\n",
            "0   1/1/2017         32.0        6.0   Rain\n",
            "2   1/5/2017         28.0        2.0   Snow\n",
            "3   1/8/2017         56.0        NaN  Sunny\n",
            "5  1/10/2017         78.0        NaN   Snow\n"
          ]
        }
      ]
    },
    {
      "cell_type": "code",
      "source": [
        "       # Replace Method\n",
        "import pandas as pd\n",
        "import numpy as np\n",
        "Weather_data={\"day\":[\"1/1/2017\",\"1/4/2017\",\"1/5/2017\",\"1/8/2017\",\"1/9/2017\",\"1/10/2017\"],\n",
        "              \"temperature\":[32,-9999,28,56,-9999,78],\n",
        "              \"windspeed\":[6,7,2,-9999,3,-9999],\n",
        "              \"event\":[\"Rain\",None,\"Snow\",\"Sunny\",None,\"Snow\"]}\n",
        "df=pd.DataFrame(Weather_data)\n",
        "#print(df)\n",
        "#new_df=df.replace([-9999,-8888,-7777],np.NaN)\n",
        "#print(new_df)              \n",
        "#new_df=df.replace({\"temperature\":[-9999,-7777],\n",
        " #                  \"windspeed\":[-9999,-8888],\n",
        "  #                 \"event\":0},np.NaN)\n",
        "#print(new_df)\n",
        "#new_df=df.replace({-9999:np.NaN,None:\"Sunny\"})\n",
        "#print(new_df)\n",
        "#new_df=df.replace(\"[A-Za-z]\",\"\",regex=True)\n",
        "#print(new_df)\n",
        "new_df=df.replace({\"temperature\":\"[A-Za-z]\",\n",
        "                   \"windspeed\":\"[A-Za-z]\"},\"\",regex=True)\n",
        "print(new_df)"
      ],
      "metadata": {
        "id": "Cln6HIxHtCG7",
        "outputId": "0865d81d-da5e-41d0-eb21-1e1a95b0d03a",
        "colab": {
          "base_uri": "https://localhost:8080/"
        }
      },
      "execution_count": null,
      "outputs": [
        {
          "output_type": "stream",
          "name": "stdout",
          "text": [
            "         day  temperature  windspeed  event\n",
            "0   1/1/2017           32          6   Rain\n",
            "1   1/4/2017        -9999          7   None\n",
            "2   1/5/2017           28          2   Snow\n",
            "3   1/8/2017           56      -9999  Sunny\n",
            "4   1/9/2017        -9999          3   None\n",
            "5  1/10/2017           78      -9999   Snow\n"
          ]
        }
      ]
    }
  ],
  "metadata": {
    "colab": {
      "toc_visible": true,
      "provenance": [],
      "include_colab_link": true
    },
    "kernelspec": {
      "display_name": "Python 3",
      "name": "python3"
    }
  },
  "nbformat": 4,
  "nbformat_minor": 0
}
